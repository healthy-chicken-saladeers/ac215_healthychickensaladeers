{
 "cells": [
  {
   "cell_type": "markdown",
   "id": "1171c6c1",
   "metadata": {},
   "source": [
    "# Querying Stage\n",
    "In this stage, the RAG pipeline extracts the most pertinent context based on a user’s query and forwards it, along with the query, to the LLM to generate a response. This procedure equips the LLM with current knowledge that wasn’t included in its original training data. This also reduces the likelihood of hallucinations, a problem for LLMs when they invent answers for data they were insufficiently trained with. The pivotal challenges in this phase revolve around the retrieval, coordination, and analysis across one or several knowledge bases."
   ]
  },
  {
   "cell_type": "code",
   "execution_count": 3,
   "id": "2007688d",
   "metadata": {},
   "outputs": [],
   "source": [
    "# Suppress Pydantic warnings since it's based in llamaindex\n",
    "import warnings\n",
    "warnings.filterwarnings('ignore', category=DeprecationWarning)"
   ]
  },
  {
   "cell_type": "markdown",
   "id": "ffc3920e",
   "metadata": {},
   "source": [
    "## Some hard-coded stuff in this cell\n",
    "* OPEN AI Key\n",
    "* Weaviate IP address"
   ]
  },
  {
   "cell_type": "code",
   "execution_count": 4,
   "id": "002b59f4",
   "metadata": {},
   "outputs": [],
   "source": [
    "import os\n",
    "# Set the OpenAI key and current Weaviate IP to run this notebook\n",
    "OPENAI_KEY = \"sk-KEY\"\n",
    "os.environ[\"OPENAI_API_KEY\"] = OPENAI_KEY\n",
    "\n",
    "WEAVIATE_IP_ADDRESS = \"34.133.13.119\"\n",
    "\n",
    "import weaviate\n",
    "from weaviate import Client\n",
    "from llama_index import VectorStoreIndex\n",
    "from llama_index.storage import StorageContext\n",
    "from llama_index.vector_stores import WeaviateVectorStore\n",
    "from llama_index.vector_stores.types import ExactMatchFilter, MetadataFilters"
   ]
  },
  {
   "cell_type": "markdown",
   "id": "84774d0f",
   "metadata": {},
   "source": [
    "## Some hard-coded stuff in this cell\n",
    "* Weaviate IP address\n",
    "* The websiteAddress obtained from what will probably be a dropdown in the frontend menu\n",
    "* The timestamp obtained from what will probably be a dropdown in the frontend menu\n",
    "* The query"
   ]
  },
  {
   "cell_type": "code",
   "execution_count": 5,
   "id": "8aff4b1e",
   "metadata": {},
   "outputs": [
    {
     "name": "stdout",
     "output_type": "stream",
     "text": [
      "AI21 Studio was a game changer because it helped Verb, an AI-enhanced tool for fiction writers, create a cutting-edge application designed to assist writers in completing their novels more easily and efficiently. AI21 Studio played a key role in the success of Verb by providing a perfect language learning model (LLM) that enabled the tool to assist with brainstorming, writing, and editing. This revolutionary writing tool improved the process of brainstorming plot points and generating ideas, making it easier for authors to plan their novels scene by scene and chapter by chapter. Additionally, AI21 Studio's generative AI models were capable of outputting new content, summaries, translations, and answers to questions, enhancing the writing process for authors. Overall, AI21 Studio's contribution to Verb's development made it a game changer in the field of authoring tools.\n"
     ]
    }
   ],
   "source": [
    "# client setup\n",
    "client = weaviate.Client(url=\"http://\" + WEAVIATE_IP_ADDRESS + \":8080\")\n",
    "\n",
    "# construct vector store\n",
    "vector_store = WeaviateVectorStore(weaviate_client=client, index_name=\"Pages\", text_key=\"text\")\n",
    "\n",
    "# setting up the indexing strategy \n",
    "storage_context = StorageContext.from_defaults(vector_store=vector_store)\n",
    "\n",
    "# setup an index for the Vector Store\n",
    "index = VectorStoreIndex.from_vector_store(vector_store, storage_context=storage_context)\n",
    "\n",
    "# Create exact match filters for websiteAddress and timestamp\n",
    "website_address_filter = ExactMatchFilter(key=\"websiteAddress\", value=\"ai21.com\")\n",
    "timestamp_filter = ExactMatchFilter(key=\"timestamp\", value=\"2023-10-06T18-11-24\")\n",
    "\n",
    "# Create a metadata filters instance with the above filters\n",
    "metadata_filters = MetadataFilters(filters=[website_address_filter, timestamp_filter])\n",
    "\n",
    "# Create a query engine with the filters\n",
    "query_engine = index.as_query_engine(filters=metadata_filters)\n",
    "\n",
    "# Execute the query\n",
    "query_str = \"How was AI21 Studio a game changer?\"\n",
    "response = query_engine.query(query_str)\n",
    "\n",
    "# Print the response \n",
    "print(response)"
   ]
  }
 ],
 "metadata": {
  "kernelspec": {
   "display_name": "Python 3",
   "language": "python",
   "name": "python3"
  },
  "language_info": {
   "codemirror_mode": {
    "name": "ipython",
    "version": 3
   },
   "file_extension": ".py",
   "mimetype": "text/x-python",
   "name": "python",
   "nbconvert_exporter": "python",
   "pygments_lexer": "ipython3",
   "version": "3.11.4"
  }
 },
 "nbformat": 4,
 "nbformat_minor": 5
}
