{
 "cells": [
  {
   "cell_type": "markdown",
   "metadata": {
    "id": "9I_ZwVnJWmYJ"
   },
   "source": [
    "# 66% Balanced Consensus: BERT-Based Financial Sentiment Classifier\n",
    "\n",
    "This document provides an explanation of the python script used to train a classifier on top of a BERT model via fine-tuning. The task is financial sentiment analysis, where sentences are classified into three sentiments: negative, neutral, and positive.\n",
    "\n",
    "## Dataset\n",
    "\n",
    "The dataset is [hosted on Hugging Face,](https://huggingface.co/datasets/financial_phrasebank) where you can find further information on its curation, motivation, and annotation.\n",
    "\n",
    "### Overview\n",
    "\n",
    "The dataset consists of 4846 lines, each containing a financial text sentence and its corresponding sentiment, separated by an '@' symbol. The sentiment can belong to one of three categories: Negative, Neutral, or Positive, and is distributed as:\n",
    "\n",
    "- Neutral: 2879 entries (59%)\n",
    "- Positive: 1363 entries (28%)\n",
    "- Negative: 604 entries (12.4%)\n",
    "\n",
    "### Data Fields\n",
    "\n",
    "- **sentence**: A tokenized line from the dataset.\n",
    "- **label**: A label representing the sentence class as a string: 'positive', 'negative', or 'neutral'.\n",
    "\n",
    "### Data Splits\n",
    "\n",
    "Although the dataset does not come with predefined training/validation/test splits, the sentences are categorized into different configurations based on the degree of agreement among the annotators:\n",
    "\n",
    "- **sentences_50agree**: Number of instances with >= 50% annotator agreement - 4846 sentences\n",
    "- **sentences_66agree**: Number of instances with >= 66% annotator agreement - 4217 sentences\n",
    "- **sentences_75agree**: Number of instances with >= 75% annotator agreement - 3453 sentences\n",
    "- **sentences_allagree**: Number of instances with 100% annotator agreement - 2264 sentences\n",
    "\n",
    "For this project, we use the `sentences_50agree` configuration comprising of 4846 instances and manually split it into training, validation, and testing sets in a 70-15-15 proportion.\n",
    "\n",
    "All sentences in the dataset are limited to fewer than 512 tokens, in accordance with the BERT model's input constraints.\n",
    "\n",
    "## Imports and System Setup\n",
    "\n",
    "The first part of the code includes importing necessary modules and setting up the TensorFlow environment to recognize accessible GPU devices.\n",
    "\n",
    "\n",
    "## Metrics\n",
    "\n",
    "The model's performance after training is evaluated based on accuracy and F1 score. Accuracy measures the proportion of correct predictions, while the F1 score provides a harmonic mean between precision and recall, hammered down for individual classes.\n",
    "\n",
    "F1 score is calculated after each epoch by a custom F1_Evaluation class that uses the Scikit-learn function `f1_score()` for calculation.\n",
    "\n",
    "We took the extra step of tracking the F1 score for the validation set for a few reasons due to using a financial dataset:\n",
    "\n",
    "- **Handling Imbalance**: Financial datasets often exhibit class imbalance. For instance, genuine transactions significantly outnumber fraudulent ones. Accuracy can be misleading in such cases, making F1 a more balanced metric as it considers both precision and recall.\n",
    "\n",
    "- **Balancing Costs**: Both false negatives (e.g., overlooking a negative sentiment) and false positives (e.g., misclassifying a neutral statement as negative) have implications. The F1 score ensures a balance between reducing these two error types.\n",
    "\n",
    "- **Threshold Tuning**: Financial decisions can involve adjustable thresholds. The F1 score can guide optimization, ensuring neither precision nor recall is neglected.\n",
    "\n",
    "## Wandb\n",
    "\n",
    "[Wandb (Weights & Biases)](https://wandb.ai/site) is used for experiment tracking.\n",
    "\n",
    "## Preprocessing\n",
    "\n",
    "The data is read from the .txt file. The file encoding is first detected using the `chardet` library, and then the data is loaded into a pandas DataFrame using the detected encoding. The DataFrame contains two columns: sentence and label.\n",
    "\n",
    "Then the data is split into train, validation, and test sets, stratifying on the label to respect the original distribution of classes in the dataset.\n",
    "\n",
    "The `BertTokenizer` is used to encode the sentences into format suitable for the BERT model. `truncation=True` and `padding=True` ensures that all sequences are of the same length.\n",
    "\n",
    "The tokenized sentence encodings and the corresponding labels are wrapped into TensorFlow's `Dataset` objects.\n",
    "\n",
    "## Model Creation\n",
    "\n",
    "The existing BERT model ('bert-base-uncased') from HuggingFace's transformer models is loaded for sequence classification with 3 labels (negative, neutral, positive).\n",
    "\n",
    "## Model Compilation and Training\n",
    "\n",
    "The model is compiled with Adam optimizer, `SparseCategoricalCrossentropy` loss function, and accuracy as a metric. We use `SparseCategoricalCrossentropy` as this is a  multi-class classification with integer labels (not one-hot encoded). It's memory-efficient, especially for many classes, and pairs with a softmax activation in the model's output.\n",
    "\n",
    "A Wandb run is initialized, and the data is fit on the model using a batch size of 8 for 10 epochs. The validation data and the custom F1 score calculation callback are also passed in the fit method.\n",
    "\n",
    "## Evaluation\n",
    "\n",
    "The model is evaluated on the test set. Classification report and F1 score are printed to show detailed information about performance on all three categories. The F1 score is also logged to the Wandb run."
   ]
  },
  {
   "cell_type": "code",
   "execution_count": 3,
   "metadata": {
    "colab": {
     "base_uri": "https://localhost:8080/"
    },
    "id": "MMcIPAfQyrQY",
    "outputId": "9ebc9d76-9e6b-4437-b06f-29b661e14cdb"
   },
   "outputs": [
    {
     "name": "stdout",
     "output_type": "stream",
     "text": [
      "Collecting wandb\n",
      "  Downloading wandb-0.15.12-py3-none-any.whl (2.1 MB)\n",
      "\u001b[2K     \u001b[90m━━━━━━━━━━━━━━━━━━━━━━━━━━━━━━━━━━━━━━━━\u001b[0m \u001b[32m2.1/2.1 MB\u001b[0m \u001b[31m15.2 MB/s\u001b[0m eta \u001b[36m0:00:00\u001b[0m\n",
      "\u001b[?25hRequirement already satisfied: Click!=8.0.0,>=7.1 in /usr/local/lib/python3.10/dist-packages (from wandb) (8.1.7)\n",
      "Collecting GitPython!=3.1.29,>=1.0.0 (from wandb)\n",
      "  Downloading GitPython-3.1.38-py3-none-any.whl (190 kB)\n",
      "\u001b[2K     \u001b[90m━━━━━━━━━━━━━━━━━━━━━━━━━━━━━━━━━━━━━━━━\u001b[0m \u001b[32m190.6/190.6 kB\u001b[0m \u001b[31m17.1 MB/s\u001b[0m eta \u001b[36m0:00:00\u001b[0m\n",
      "\u001b[?25hRequirement already satisfied: requests<3,>=2.0.0 in /usr/local/lib/python3.10/dist-packages (from wandb) (2.31.0)\n",
      "Requirement already satisfied: psutil>=5.0.0 in /usr/local/lib/python3.10/dist-packages (from wandb) (5.9.5)\n",
      "Collecting sentry-sdk>=1.0.0 (from wandb)\n",
      "  Downloading sentry_sdk-1.32.0-py2.py3-none-any.whl (240 kB)\n",
      "\u001b[2K     \u001b[90m━━━━━━━━━━━━━━━━━━━━━━━━━━━━━━━━━━━━━━━━\u001b[0m \u001b[32m241.0/241.0 kB\u001b[0m \u001b[31m19.1 MB/s\u001b[0m eta \u001b[36m0:00:00\u001b[0m\n",
      "\u001b[?25hCollecting docker-pycreds>=0.4.0 (from wandb)\n",
      "  Downloading docker_pycreds-0.4.0-py2.py3-none-any.whl (9.0 kB)\n",
      "Requirement already satisfied: PyYAML in /usr/local/lib/python3.10/dist-packages (from wandb) (6.0.1)\n",
      "Collecting pathtools (from wandb)\n",
      "  Downloading pathtools-0.1.2.tar.gz (11 kB)\n",
      "  Preparing metadata (setup.py) ... \u001b[?25l\u001b[?25hdone\n",
      "Collecting setproctitle (from wandb)\n",
      "  Downloading setproctitle-1.3.3-cp310-cp310-manylinux_2_5_x86_64.manylinux1_x86_64.manylinux_2_17_x86_64.manylinux2014_x86_64.whl (30 kB)\n",
      "Requirement already satisfied: setuptools in /usr/local/lib/python3.10/dist-packages (from wandb) (67.7.2)\n",
      "Requirement already satisfied: appdirs>=1.4.3 in /usr/local/lib/python3.10/dist-packages (from wandb) (1.4.4)\n",
      "Requirement already satisfied: protobuf!=4.21.0,<5,>=3.19.0 in /usr/local/lib/python3.10/dist-packages (from wandb) (3.20.3)\n",
      "Requirement already satisfied: six>=1.4.0 in /usr/local/lib/python3.10/dist-packages (from docker-pycreds>=0.4.0->wandb) (1.16.0)\n",
      "Collecting gitdb<5,>=4.0.1 (from GitPython!=3.1.29,>=1.0.0->wandb)\n",
      "  Downloading gitdb-4.0.10-py3-none-any.whl (62 kB)\n",
      "\u001b[2K     \u001b[90m━━━━━━━━━━━━━━━━━━━━━━━━━━━━━━━━━━━━━━━━\u001b[0m \u001b[32m62.7/62.7 kB\u001b[0m \u001b[31m8.8 MB/s\u001b[0m eta \u001b[36m0:00:00\u001b[0m\n",
      "\u001b[?25hRequirement already satisfied: charset-normalizer<4,>=2 in /usr/local/lib/python3.10/dist-packages (from requests<3,>=2.0.0->wandb) (3.3.0)\n",
      "Requirement already satisfied: idna<4,>=2.5 in /usr/local/lib/python3.10/dist-packages (from requests<3,>=2.0.0->wandb) (3.4)\n",
      "Requirement already satisfied: urllib3<3,>=1.21.1 in /usr/local/lib/python3.10/dist-packages (from requests<3,>=2.0.0->wandb) (2.0.6)\n",
      "Requirement already satisfied: certifi>=2017.4.17 in /usr/local/lib/python3.10/dist-packages (from requests<3,>=2.0.0->wandb) (2023.7.22)\n",
      "Collecting smmap<6,>=3.0.1 (from gitdb<5,>=4.0.1->GitPython!=3.1.29,>=1.0.0->wandb)\n",
      "  Downloading smmap-5.0.1-py3-none-any.whl (24 kB)\n",
      "Building wheels for collected packages: pathtools\n",
      "  Building wheel for pathtools (setup.py) ... \u001b[?25l\u001b[?25hdone\n",
      "  Created wheel for pathtools: filename=pathtools-0.1.2-py3-none-any.whl size=8791 sha256=d6ec608e204ead579ee8cc8d1d1294961d160d2b64cf926773e0fbbb62b6d1c4\n",
      "  Stored in directory: /root/.cache/pip/wheels/e7/f3/22/152153d6eb222ee7a56ff8617d80ee5207207a8c00a7aab794\n",
      "Successfully built pathtools\n",
      "Installing collected packages: pathtools, smmap, setproctitle, sentry-sdk, docker-pycreds, gitdb, GitPython, wandb\n",
      "Successfully installed GitPython-3.1.38 docker-pycreds-0.4.0 gitdb-4.0.10 pathtools-0.1.2 sentry-sdk-1.32.0 setproctitle-1.3.3 smmap-5.0.1 wandb-0.15.12\n"
     ]
    }
   ],
   "source": [
    "!pip install wandb"
   ]
  },
  {
   "cell_type": "code",
   "execution_count": 4,
   "metadata": {
    "colab": {
     "base_uri": "https://localhost:8080/"
    },
    "id": "q4TaSXfQys4J",
    "outputId": "ce095676-526b-4343-a855-e34aba1fda60"
   },
   "outputs": [
    {
     "name": "stdout",
     "output_type": "stream",
     "text": [
      "Collecting transformers\n",
      "  Downloading transformers-4.34.0-py3-none-any.whl (7.7 MB)\n",
      "\u001b[2K     \u001b[90m━━━━━━━━━━━━━━━━━━━━━━━━━━━━━━━━━━━━━━━━\u001b[0m \u001b[32m7.7/7.7 MB\u001b[0m \u001b[31m30.4 MB/s\u001b[0m eta \u001b[36m0:00:00\u001b[0m\n",
      "\u001b[?25hRequirement already satisfied: filelock in /usr/local/lib/python3.10/dist-packages (from transformers) (3.12.4)\n",
      "Collecting huggingface-hub<1.0,>=0.16.4 (from transformers)\n",
      "  Downloading huggingface_hub-0.18.0-py3-none-any.whl (301 kB)\n",
      "\u001b[2K     \u001b[90m━━━━━━━━━━━━━━━━━━━━━━━━━━━━━━━━━━━━━━━━\u001b[0m \u001b[32m302.0/302.0 kB\u001b[0m \u001b[31m31.7 MB/s\u001b[0m eta \u001b[36m0:00:00\u001b[0m\n",
      "\u001b[?25hRequirement already satisfied: numpy>=1.17 in /usr/local/lib/python3.10/dist-packages (from transformers) (1.23.5)\n",
      "Requirement already satisfied: packaging>=20.0 in /usr/local/lib/python3.10/dist-packages (from transformers) (23.2)\n",
      "Requirement already satisfied: pyyaml>=5.1 in /usr/local/lib/python3.10/dist-packages (from transformers) (6.0.1)\n",
      "Requirement already satisfied: regex!=2019.12.17 in /usr/local/lib/python3.10/dist-packages (from transformers) (2023.6.3)\n",
      "Requirement already satisfied: requests in /usr/local/lib/python3.10/dist-packages (from transformers) (2.31.0)\n",
      "Collecting tokenizers<0.15,>=0.14 (from transformers)\n",
      "  Downloading tokenizers-0.14.1-cp310-cp310-manylinux_2_17_x86_64.manylinux2014_x86_64.whl (3.8 MB)\n",
      "\u001b[2K     \u001b[90m━━━━━━━━━━━━━━━━━━━━━━━━━━━━━━━━━━━━━━━━\u001b[0m \u001b[32m3.8/3.8 MB\u001b[0m \u001b[31m76.9 MB/s\u001b[0m eta \u001b[36m0:00:00\u001b[0m\n",
      "\u001b[?25hCollecting safetensors>=0.3.1 (from transformers)\n",
      "  Downloading safetensors-0.4.0-cp310-cp310-manylinux_2_17_x86_64.manylinux2014_x86_64.whl (1.3 MB)\n",
      "\u001b[2K     \u001b[90m━━━━━━━━━━━━━━━━━━━━━━━━━━━━━━━━━━━━━━━━\u001b[0m \u001b[32m1.3/1.3 MB\u001b[0m \u001b[31m73.0 MB/s\u001b[0m eta \u001b[36m0:00:00\u001b[0m\n",
      "\u001b[?25hRequirement already satisfied: tqdm>=4.27 in /usr/local/lib/python3.10/dist-packages (from transformers) (4.66.1)\n",
      "Requirement already satisfied: fsspec>=2023.5.0 in /usr/local/lib/python3.10/dist-packages (from huggingface-hub<1.0,>=0.16.4->transformers) (2023.6.0)\n",
      "Requirement already satisfied: typing-extensions>=3.7.4.3 in /usr/local/lib/python3.10/dist-packages (from huggingface-hub<1.0,>=0.16.4->transformers) (4.5.0)\n",
      "Collecting huggingface-hub<1.0,>=0.16.4 (from transformers)\n",
      "  Downloading huggingface_hub-0.17.3-py3-none-any.whl (295 kB)\n",
      "\u001b[2K     \u001b[90m━━━━━━━━━━━━━━━━━━━━━━━━━━━━━━━━━━━━━━━━\u001b[0m \u001b[32m295.0/295.0 kB\u001b[0m \u001b[31m30.9 MB/s\u001b[0m eta \u001b[36m0:00:00\u001b[0m\n",
      "\u001b[?25hRequirement already satisfied: charset-normalizer<4,>=2 in /usr/local/lib/python3.10/dist-packages (from requests->transformers) (3.3.0)\n",
      "Requirement already satisfied: idna<4,>=2.5 in /usr/local/lib/python3.10/dist-packages (from requests->transformers) (3.4)\n",
      "Requirement already satisfied: urllib3<3,>=1.21.1 in /usr/local/lib/python3.10/dist-packages (from requests->transformers) (2.0.6)\n",
      "Requirement already satisfied: certifi>=2017.4.17 in /usr/local/lib/python3.10/dist-packages (from requests->transformers) (2023.7.22)\n",
      "Installing collected packages: safetensors, huggingface-hub, tokenizers, transformers\n",
      "Successfully installed huggingface-hub-0.17.3 safetensors-0.4.0 tokenizers-0.14.1 transformers-4.34.0\n"
     ]
    }
   ],
   "source": [
    "!pip install transformers"
   ]
  },
  {
   "cell_type": "code",
   "execution_count": 83,
   "metadata": {
    "colab": {
     "base_uri": "https://localhost:8080/"
    },
    "id": "RusBHFMfLFcM",
    "outputId": "e376179b-d117-47de-8980-03141037f16e"
   },
   "outputs": [
    {
     "name": "stdout",
     "output_type": "stream",
     "text": [
      "Num GPUs Available:  1\n",
      "Found GPU at: /device:GPU:0\n",
      "Drive already mounted at /content/drive; to attempt to forcibly remount, call drive.mount(\"/content/drive\", force_remount=True).\n"
     ]
    }
   ],
   "source": [
    "# Easy place to track what we're training\n",
    "WHICH_DATASET = 'Sentences_66Agree.txt'\n",
    "WHICH_RUN_NAME = 'bert-balanced-66Agree'\n",
    "seed_val = 42\n",
    "\n",
    "# Import necessary libraries\n",
    "import os\n",
    "\n",
    "# Used to suppress output for F1 validation calculation\n",
    "import io\n",
    "import contextlib\n",
    "\n",
    "# For encoding detection\n",
    "import chardet\n",
    "\n",
    "import math\n",
    "import numpy as np\n",
    "import pandas as pd\n",
    "import matplotlib.pyplot as plt\n",
    "from sklearn.metrics import classification_report, f1_score\n",
    "from sklearn.model_selection import train_test_split\n",
    "\n",
    "# Hugging Face Transformers for BERT\n",
    "from transformers import BertTokenizer, TFBertForSequenceClassification\n",
    "\n",
    "# Deep learning frameworks\n",
    "import tensorflow as tf\n",
    "from tensorflow import keras\n",
    "from tensorflow.keras import backend as K\n",
    "from tensorflow.keras.callbacks import EarlyStopping\n",
    "from tensorflow.keras.preprocessing.text import Tokenizer\n",
    "from tensorflow.keras.preprocessing.sequence import pad_sequences\n",
    "from tensorflow.keras.layers import Embedding, LSTM, Dense, Dropout, Bidirectional\n",
    "from tensorflow.keras.utils import to_categorical\n",
    "from tensorflow.keras.losses import MeanSquaredError, SparseCategoricalCrossentropy\n",
    "\n",
    "# Ensure we have a GPU\n",
    "print(\"Num GPUs Available: \", len(tf.config.list_physical_devices('GPU')))\n",
    "\n",
    "# Verify current GPU\n",
    "device_name = tf.test.gpu_device_name()\n",
    "if device_name != '/device:GPU:0':\n",
    "  raise SystemError('GPU device not found')\n",
    "print('Found GPU at: {}'.format(device_name))\n",
    "\n",
    "# Weights and Biases for tracking experiments\n",
    "import wandb\n",
    "from wandb.keras import WandbCallback\n",
    "from sklearn.metrics import f1_score\n",
    "\n",
    "from google.colab import drive\n",
    "drive.mount('/content/drive')"
   ]
  },
  {
   "cell_type": "markdown",
   "metadata": {
    "id": "RBGjuUwLkpQX"
   },
   "source": [
    "# Prepare Data\n",
    "\n",
    "## Overview\n",
    "\n",
    "The varying levels of annotator agreements creates an unusual challenge. The aim is to create a train, test, and validation split that does not bias the model towards obvious sentiments. This guide will describe each step in the data splitting process.\n",
    "\n",
    "## Step 1: Load the Data\n",
    "\n",
    "Firstly we load the dataset files (which are text files in this case). Considering the possibility that these text files might have different encodings (they initially crashed the program as they use `ISO-8859-1`), we use Python's `chardet` library to detect the encoding before reading the file. This ensures that the loading of files doesn't fail due to encoding issues. The data is then shuffled randomly. The shuffling was an easy thing to miss, as previously we had used `train_test_split` from `scikit-learn` to split the data, and it had automatically shuffled the data. The data actually comes nearly sorted by sentiment, so without shuffling the model can't be fine-tuned at all.\n",
    "\n",
    "The files are read in the following way:\n",
    "- Every sentence in the dataset is separated by an '@' delimiter.\n",
    "- There are no headers in the files so they are assigned later as ['sentence', 'label'].\n",
    "- We use pandas' `read_csv` function to read these files.\n",
    "\n",
    "## Step 2: Create a Subset from 'sentences_50agree'\n",
    "\n",
    "The `sentences_50agree` dataset is the largest and most diverse dataset. To avoid overfitting and create a diverse validation set, we create a subset from this dataframe that will later be used for validation/testing. This subset is the same size as the train set.\n",
    "\n",
    "## Step 3: Split the Subset into Validation and Test Sets\n",
    "\n",
    "The subset created from `sentences_50agree` is split into validation and test sets. Here, a stratified sampling is performed to ensure that the split datasets have instances of each class ('positive', 'negative', and 'neutral') in proportions close to their original distribution in the parent dataset. The dataset is split in such way that 31% data is used for validation/testing. We choose 31% as this seems to result in the closest to a 70/15/15 train/validate/test split once the datasets have been assembled.\n",
    "\n",
    "## Step 4: Update the Training Set\n",
    "\n",
    "After obtaining the validation and test sets, we remove sentences present in these sets from the training set. This is done to avoid data leakage and ensure that the model doesn't see any sentence in the training phase that it would later encounter in the validation/testing phase.\n",
    "\n",
    "## Step 5: Further Divide the Validation and Test Sets\n",
    "\n",
    "The validation/test set subset is then divided equally into two parts: one part forms the validation set and the other part forms the test set.\n",
    "\n",
    "## Step 6: Output the Sizes and Percentages\n",
    "\n",
    "Finally, after creating all the datasets, we output the sizes of the train, validation, and test datasets along with their respective percentages to make sure that the classes are as balanced as they can be given the data.\n",
    "\n",
    "This completes our data splitting process ensuring that we have a good mix of data in each dataset and our model does not get biased towards the easy-to-identify financial sentiments."
   ]
  },
  {
   "cell_type": "code",
   "execution_count": 32,
   "metadata": {
    "colab": {
     "base_uri": "https://localhost:8080/"
    },
    "id": "rdg5jiwIkh0j",
    "outputId": "f86dcaf6-1149-4fb7-f359-75e3cfd977bd"
   },
   "outputs": [
    {
     "name": "stdout",
     "output_type": "stream",
     "text": [
      "Encoding for: Sentences_50Agree.txt is: ISO-8859-1\n",
      "Encoding for: Sentences_66Agree.txt is: ISO-8859-1\n",
      "\n",
      "Size of Train set: 3084 (70.22%)\n",
      "Size of Validation set: 654 (14.89%)\n",
      "Size of Test set: 654 (14.89%)\n"
     ]
    }
   ],
   "source": [
    "# Load a dataset given its path\n",
    "def load_data(data_path, seed):\n",
    "    raw_data = open(data_path, 'rb').read()\n",
    "    result = chardet.detect(raw_data)\n",
    "    encoding = result['encoding']\n",
    "    print(\"Encoding for:\", data_path, \"is:\", encoding)\n",
    "    df = pd.read_csv(data_path, delimiter='@', header=None, names=['sentence', 'label'], encoding=encoding)\n",
    "    return df.sample(frac=1, random_state=seed)\n",
    "\n",
    "# Load data with correct encoding and delimiter\n",
    "df_50agree = load_data('Sentences_50Agree.txt', seed_val)\n",
    "train = load_data(WHICH_DATASET, seed_val)\n",
    "\n",
    "# Save original count for unit testing purposes\n",
    "original_50agree_count = train.shape[0]\n",
    "\n",
    "# Take a random subset of sentences_50agree equal in size to the size of train dataset\n",
    "subset_50agree = df_50agree.sample(n=len(train), random_state=seed_val)\n",
    "\n",
    "# Randomly choose 31% of the data from this subset for validation/test\n",
    "_, valid_test_subset = train_test_split(subset_50agree, test_size=0.31, random_state=seed_val, stratify=subset_50agree['label'])\n",
    "\n",
    "# Remove items from train dataset that are in the validation/test set\n",
    "train = train[~train['sentence'].isin(valid_test_subset['sentence'])]\n",
    "\n",
    "# Split the validation/test set in half into validation and test set\n",
    "valid, test = train_test_split(valid_test_subset, test_size=0.5, random_state=seed_val, stratify=valid_test_subset['label'])\n",
    "\n",
    "# Load pre-trained BERT tokenizer\n",
    "tokenizer = BertTokenizer.from_pretrained('bert-base-uncased')\n",
    "\n",
    "# Convert texts to BERT input format\n",
    "train_encodings = tokenizer(train.sentence.tolist(), truncation=True, padding=True)\n",
    "val_encodings = tokenizer(valid.sentence.tolist(), truncation=True, padding=True)\n",
    "test_encodings = tokenizer(test.sentence.tolist(), truncation=True, padding=True)\n",
    "\n",
    "def make_tf_dataset(encodings, labels):\n",
    "    \"\"\"Function to convert encodings and labels into tensorflow dataset.\"\"\"\n",
    "    input_ids = np.array(encodings['input_ids'])\n",
    "    attention_mask = np.array(encodings['attention_mask'])\n",
    "    labels = np.array(labels)\n",
    "    return tf.data.Dataset.from_tensor_slices((input_ids, attention_mask, labels)).map(\n",
    "        lambda input_ids, attention_mask, labels : ({\"input_ids\": input_ids, \"attention_mask\": attention_mask}, labels))\n",
    "\n",
    "# Defining the labels keys and their respective values as per the model\n",
    "label2num = {'negative':0,'neutral':1,'positive':2}\n",
    "train_labels = [label2num[x] for x in train.label.tolist()]\n",
    "val_labels = [label2num[x] for x in valid.label.tolist()]\n",
    "test_labels = [label2num[x] for x in test.label.tolist()]\n",
    "\n",
    "# Convert encodings and labels into tensorflow dataset\n",
    "train_dataset = make_tf_dataset(train_encodings, train_labels)\n",
    "val_dataset = make_tf_dataset(val_encodings, val_labels)\n",
    "test_dataset = make_tf_dataset(test_encodings, test_labels)\n",
    "\n",
    "# Print the sizes and percentages\n",
    "total_size = len(train) + len(valid) + len(test)\n",
    "\n",
    "print(\"\\nSize of Train set:\", len(train),\n",
    "      f\"({(len(train)/total_size)*100:.2f}%)\")\n",
    "print(\"Size of Validation set:\", len(valid),\n",
    "      f\"({(len(valid)/total_size)*100:.2f}%)\")\n",
    "print(\"Size of Test set:\", len(test),\n",
    "      f\"({(len(test)/total_size)*100:.2f}%)\")"
   ]
  },
  {
   "cell_type": "markdown",
   "metadata": {
    "id": "UrGO2oGpltm-"
   },
   "source": [
    "# Check out the distribution of the classes to ensure they look balanced across datasets"
   ]
  },
  {
   "cell_type": "code",
   "execution_count": 7,
   "metadata": {
    "colab": {
     "base_uri": "https://localhost:8080/"
    },
    "id": "6vah-_ZflTOd",
    "outputId": "87e14ce6-7d51-47e4-89b7-bfac91117c07"
   },
   "outputs": [
    {
     "name": "stdout",
     "output_type": "stream",
     "text": [
      "Training set:\n",
      "neutral     1854\n",
      "positive     852\n",
      "negative     378\n",
      "Name: label, dtype: int64\n",
      "\n",
      "Validation set:\n",
      "neutral     388\n",
      "positive    186\n",
      "negative     80\n",
      "Name: label, dtype: int64\n",
      "\n",
      "Test set:\n",
      "neutral     388\n",
      "positive    185\n",
      "negative     81\n",
      "Name: label, dtype: int64\n"
     ]
    }
   ],
   "source": [
    "# Distribution in the Training set\n",
    "print(\"Training set:\")\n",
    "print(train['label'].value_counts())\n",
    "\n",
    "# Distribution in the Validation set\n",
    "print(\"\\nValidation set:\")\n",
    "print(valid['label'].value_counts())\n",
    "\n",
    "# Distribution in the Test set\n",
    "print(\"\\nTest set:\")\n",
    "print(test['label'].value_counts())"
   ]
  },
  {
   "cell_type": "markdown",
   "metadata": {
    "id": "E8iECbfKleGh"
   },
   "source": [
    "# F1 Callback to track F1 Validation"
   ]
  },
  {
   "cell_type": "code",
   "execution_count": null,
   "metadata": {
    "id": "COXH9yb6v6W7"
   },
   "outputs": [],
   "source": [
    "# Custom callback for F1 evaluation at the end of each epoch\n",
    "class F1_Evaluation(tf.keras.callbacks.Callback):\n",
    "    def __init__(self, validation_data=(), interval=1):\n",
    "        super(F1_Evaluation, self).__init__()\n",
    "        self.interval = interval\n",
    "        self.dataset = validation_data\n",
    "        self.X_val, self.y_val = [], []\n",
    "\n",
    "        # Iterating over the dataset to get batches\n",
    "        for batch in self.dataset:\n",
    "            # Batch consists of inputs and labels\n",
    "            inputs, labels = batch\n",
    "            self.X_val.append(inputs)  # inputs is a dict with keys ['input_ids', 'attention_mask']\n",
    "            self.y_val.append(np.atleast_1d(np.squeeze(labels.numpy())))  # Converting labels tensor to numpy array\n",
    "\n",
    "        self.f1_scores = []\n",
    "\n",
    "    def on_epoch_end(self, epoch, logs={}):\n",
    "        \"\"\"Method called at the end of each epoch, calculating and logging F1 score.\"\"\"\n",
    "        print(\"\\nCalculating validation F1 score...\")\n",
    "        # Process only for epochs with (epoch number modulo self.interval) equal to 0\n",
    "        if epoch % self.interval == 0:\n",
    "            y_pred = []\n",
    "\n",
    "            # Iterate over inputs for each batch to generate predictions\n",
    "            for X_val_batch in self.X_val:\n",
    "                # Redirect stdout and stderr to avoid print statements inside keras.model.predict\n",
    "                with contextlib.redirect_stdout(io.StringIO()), contextlib.redirect_stderr(io.StringIO()):\n",
    "                    y_pred_single = self.model.predict(X_val_batch).logits\n",
    "                # Softmax on logits and take class with maximum probability\n",
    "                y_pred_single = tf.nn.softmax(y_pred_single).numpy().argmax(axis=-1)\n",
    "                # Ensure that y_pred_single is at least a 1D array even if it is a scalar\n",
    "                y_pred.append(np.atleast_1d(y_pred_single))\n",
    "\n",
    "            # Concatenate all predictions and labels\n",
    "            y_pred = np.concatenate(y_pred)\n",
    "            y_val = np.concatenate(self.y_val)\n",
    "\n",
    "            # Calculate F1 score and append to F1 scores list\n",
    "            _f1 = f1_score(y_val, y_pred, average='weighted')\n",
    "            self.f1_scores.append(_f1)\n",
    "\n",
    "            print(\"Epoch: {} - validation_data f1_score: {:.4f}\".format(epoch+1, _f1))"
   ]
  },
  {
   "cell_type": "code",
   "execution_count": null,
   "metadata": {
    "colab": {
     "base_uri": "https://localhost:8080/",
     "height": 1000,
     "referenced_widgets": [
      "c6dc65c168894c08b7016c300fdd47c2",
      "d5b6a75903e942f0bc00e0a6b605cced",
      "3eff5d63862040d6bbc0c3615c7188db",
      "d88ea8067d7948c781c5e0bb65cf7fa6",
      "a8c30d3041954ad5be787bee604fd07d",
      "260b1e15242748d6ad81ae1d59b65ce1",
      "3c9314d0397d4c939075cc229db3d7d5",
      "319051e8ffd340839a1762386976a5e4",
      "41e1681c4fe646f9aff22a5c1efd2a4d",
      "a39f2ca1cd1f4fe193adfb3344b87d0a",
      "3ebb65fe4ee24579991029affc47fd89"
     ]
    },
    "id": "4Jr1GaB3Qyqy",
    "outputId": "8b7d8d9e-356e-4730-8bfb-3498f4bdf56f"
   },
   "outputs": [
    {
     "data": {
      "application/javascript": [
       "\n",
       "        window._wandbApiKey = new Promise((resolve, reject) => {\n",
       "            function loadScript(url) {\n",
       "            return new Promise(function(resolve, reject) {\n",
       "                let newScript = document.createElement(\"script\");\n",
       "                newScript.onerror = reject;\n",
       "                newScript.onload = resolve;\n",
       "                document.body.appendChild(newScript);\n",
       "                newScript.src = url;\n",
       "            });\n",
       "            }\n",
       "            loadScript(\"https://cdn.jsdelivr.net/npm/postmate/build/postmate.min.js\").then(() => {\n",
       "            const iframe = document.createElement('iframe')\n",
       "            iframe.style.cssText = \"width:0;height:0;border:none\"\n",
       "            document.body.appendChild(iframe)\n",
       "            const handshake = new Postmate({\n",
       "                container: iframe,\n",
       "                url: 'https://wandb.ai/authorize'\n",
       "            });\n",
       "            const timeout = setTimeout(() => reject(\"Couldn't auto authenticate\"), 5000)\n",
       "            handshake.then(function(child) {\n",
       "                child.on('authorize', data => {\n",
       "                    clearTimeout(timeout)\n",
       "                    resolve(data)\n",
       "                });\n",
       "            });\n",
       "            })\n",
       "        });\n",
       "    "
      ],
      "text/plain": [
       "<IPython.core.display.Javascript object>"
      ]
     },
     "metadata": {},
     "output_type": "display_data"
    },
    {
     "name": "stderr",
     "output_type": "stream",
     "text": [
      "\u001b[34m\u001b[1mwandb\u001b[0m: Appending key for api.wandb.ai to your netrc file: /root/.netrc\n"
     ]
    },
    {
     "data": {
      "application/vnd.jupyter.widget-view+json": {
       "model_id": "c6dc65c168894c08b7016c300fdd47c2",
       "version_major": 2,
       "version_minor": 0
      },
      "text/plain": [
       "Downloading model.safetensors:   0%|          | 0.00/440M [00:00<?, ?B/s]"
      ]
     },
     "metadata": {},
     "output_type": "display_data"
    },
    {
     "name": "stderr",
     "output_type": "stream",
     "text": [
      "All PyTorch model weights were used when initializing TFBertForSequenceClassification.\n",
      "\n",
      "Some weights or buffers of the TF 2.0 model TFBertForSequenceClassification were not initialized from the PyTorch model and are newly initialized: ['classifier.weight', 'classifier.bias']\n",
      "You should probably TRAIN this model on a down-stream task to be able to use it for predictions and inference.\n",
      "\u001b[34m\u001b[1mwandb\u001b[0m: Currently logged in as: \u001b[33miankelk\u001b[0m. Use \u001b[1m`wandb login --relogin`\u001b[0m to force relogin\n"
     ]
    },
    {
     "data": {
      "text/html": [
       "Tracking run with wandb version 0.15.12"
      ],
      "text/plain": [
       "<IPython.core.display.HTML object>"
      ]
     },
     "metadata": {},
     "output_type": "display_data"
    },
    {
     "data": {
      "text/html": [
       "Run data is saved locally in <code>/content/wandb/run-20231018_035723-1sj1wqda</code>"
      ],
      "text/plain": [
       "<IPython.core.display.HTML object>"
      ]
     },
     "metadata": {},
     "output_type": "display_data"
    },
    {
     "data": {
      "text/html": [
       "Syncing run <strong><a href='https://wandb.ai/iankelk/bert-sentiment/runs/1sj1wqda' target=\"_blank\">bert-balanced-66Agree</a></strong> to <a href='https://wandb.ai/iankelk/bert-sentiment' target=\"_blank\">Weights & Biases</a> (<a href='https://wandb.me/run' target=\"_blank\">docs</a>)<br/>"
      ],
      "text/plain": [
       "<IPython.core.display.HTML object>"
      ]
     },
     "metadata": {},
     "output_type": "display_data"
    },
    {
     "data": {
      "text/html": [
       " View project at <a href='https://wandb.ai/iankelk/bert-sentiment' target=\"_blank\">https://wandb.ai/iankelk/bert-sentiment</a>"
      ],
      "text/plain": [
       "<IPython.core.display.HTML object>"
      ]
     },
     "metadata": {},
     "output_type": "display_data"
    },
    {
     "data": {
      "text/html": [
       " View run at <a href='https://wandb.ai/iankelk/bert-sentiment/runs/1sj1wqda' target=\"_blank\">https://wandb.ai/iankelk/bert-sentiment/runs/1sj1wqda</a>"
      ],
      "text/plain": [
       "<IPython.core.display.HTML object>"
      ]
     },
     "metadata": {},
     "output_type": "display_data"
    },
    {
     "name": "stdout",
     "output_type": "stream",
     "text": [
      "Epoch 1/10\n",
      "386/386 [==============================] - ETA: 0s - loss: 0.5713 - accuracy: 0.7597\n",
      "Calculating validation F1 score...\n",
      "Epoch: 1 - validation_data f1_score: 0.8269\n",
      "386/386 [==============================] - 113s 168ms/step - loss: 0.5713 - accuracy: 0.7597 - val_loss: 0.4180 - val_accuracy: 0.8287\n",
      "Epoch 2/10\n",
      "386/386 [==============================] - ETA: 0s - loss: 0.2324 - accuracy: 0.9202\n",
      "Calculating validation F1 score...\n",
      "Epoch: 2 - validation_data f1_score: 0.8376\n",
      "386/386 [==============================] - 44s 113ms/step - loss: 0.2324 - accuracy: 0.9202 - val_loss: 0.4852 - val_accuracy: 0.8364\n",
      "Epoch 3/10\n",
      "386/386 [==============================] - ETA: 0s - loss: 0.1098 - accuracy: 0.9643\n",
      "Calculating validation F1 score...\n",
      "Epoch: 3 - validation_data f1_score: 0.8180\n",
      "386/386 [==============================] - 44s 113ms/step - loss: 0.1098 - accuracy: 0.9643 - val_loss: 0.7499 - val_accuracy: 0.8150\n",
      "Epoch 4/10\n",
      "386/386 [==============================] - ETA: 0s - loss: 0.0891 - accuracy: 0.9718\n",
      "Calculating validation F1 score...\n",
      "Epoch: 4 - validation_data f1_score: 0.8372\n",
      "386/386 [==============================] - 44s 113ms/step - loss: 0.0891 - accuracy: 0.9718 - val_loss: 0.6459 - val_accuracy: 0.8349\n",
      "Epoch 5/10\n",
      "386/386 [==============================] - ETA: 0s - loss: 0.0600 - accuracy: 0.9828\n",
      "Calculating validation F1 score...\n",
      "Epoch: 5 - validation_data f1_score: 0.8386\n",
      "386/386 [==============================] - 44s 113ms/step - loss: 0.0600 - accuracy: 0.9828 - val_loss: 0.6257 - val_accuracy: 0.8410\n",
      "Epoch 6/10\n",
      "386/386 [==============================] - ETA: 0s - loss: 0.0382 - accuracy: 0.9887\n",
      "Calculating validation F1 score...\n",
      "Epoch: 6 - validation_data f1_score: 0.8544\n",
      "386/386 [==============================] - 44s 115ms/step - loss: 0.0382 - accuracy: 0.9887 - val_loss: 0.6749 - val_accuracy: 0.8563\n",
      "Epoch 7/10\n",
      "386/386 [==============================] - ETA: 0s - loss: 0.0267 - accuracy: 0.9922\n",
      "Calculating validation F1 score...\n",
      "Epoch: 7 - validation_data f1_score: 0.8409\n",
      "386/386 [==============================] - 44s 113ms/step - loss: 0.0267 - accuracy: 0.9922 - val_loss: 0.8064 - val_accuracy: 0.8425\n",
      "Epoch 8/10\n",
      "386/386 [==============================] - ETA: 0s - loss: 0.0370 - accuracy: 0.9906\n",
      "Calculating validation F1 score...\n",
      "Epoch: 8 - validation_data f1_score: 0.8209\n",
      "386/386 [==============================] - 43s 112ms/step - loss: 0.0370 - accuracy: 0.9906 - val_loss: 0.7854 - val_accuracy: 0.8196\n",
      "Epoch 9/10\n",
      "386/386 [==============================] - ETA: 0s - loss: 0.0433 - accuracy: 0.9890\n",
      "Calculating validation F1 score...\n",
      "Epoch: 9 - validation_data f1_score: 0.8418\n",
      "386/386 [==============================] - 44s 114ms/step - loss: 0.0433 - accuracy: 0.9890 - val_loss: 0.7857 - val_accuracy: 0.8410\n",
      "Epoch 10/10\n",
      "386/386 [==============================] - ETA: 0s - loss: 0.0310 - accuracy: 0.9906\n",
      "Calculating validation F1 score...\n",
      "Epoch: 10 - validation_data f1_score: 0.8326\n",
      "386/386 [==============================] - 44s 114ms/step - loss: 0.0310 - accuracy: 0.9906 - val_loss: 0.7952 - val_accuracy: 0.8333\n",
      "82/82 [==============================] - 6s 43ms/step\n",
      "              precision    recall  f1-score   support\n",
      "\n",
      "    negative       0.81      0.79      0.80        81\n",
      "     neutral       0.88      0.86      0.87       388\n",
      "    positive       0.75      0.81      0.78       185\n",
      "\n",
      "    accuracy                           0.83       654\n",
      "   macro avg       0.81      0.82      0.82       654\n",
      "weighted avg       0.84      0.83      0.83       654\n",
      "\n",
      "F1 Score: 0.8341229586481447\n"
     ]
    }
   ],
   "source": [
    "# Log in to W&B account for experiment tracking\n",
    "wandb.login()\n",
    "\n",
    "# Load pre-trained BERT model with a classification layer on top\n",
    "model = TFBertForSequenceClassification.from_pretrained('bert-base-uncased', num_labels=3)\n",
    "\n",
    "# Define loss function, optimizer, and metrics\n",
    "loss_fn = keras.losses.SparseCategoricalCrossentropy(from_logits=True)\n",
    "\n",
    "lr_schedule = keras.optimizers.schedules.ExponentialDecay(\n",
    "    initial_learning_rate=3e-5,\n",
    "    decay_steps=10000,\n",
    "    decay_rate=0.9)\n",
    "optimizer = keras.optimizers.Adam(learning_rate=lr_schedule)\n",
    "\n",
    "# optimizer = keras.optimizers.Adam(learning_rate=3e-5)\n",
    "model.compile(optimizer=optimizer, loss=loss_fn, metrics=['accuracy'])\n",
    "\n",
    "# Initializing wandb run\n",
    "wandb.init(project=\"bert-sentiment\", name=WHICH_RUN_NAME)\n",
    "\n",
    "# Prepare for F1 score evaluation\n",
    "val_dataset_temp = val_dataset.batch(8)\n",
    "f1_evaluation = F1_Evaluation(validation_data=val_dataset_temp, interval=1)\n",
    "\n",
    "# Add early stopping (disabled for now)\n",
    "early_stopping = EarlyStopping(monitor='val_loss', patience=2, restore_best_weights=True)\n",
    "\n",
    "# Train the model\n",
    "history = model.fit(\n",
    "    train_dataset.batch(8),\n",
    "    validation_data=val_dataset_temp,\n",
    "    epochs=10,\n",
    "    callbacks=[WandbCallback(save_model=False), f1_evaluation] #, early_stopping]\n",
    ")\n",
    "\n",
    "# Evaluate the model with test dataset and show the classification report\n",
    "y_test = test.label.map(label2num).values\n",
    "y_pred = tf.nn.softmax(model.predict(test_dataset.batch(8)).logits).numpy().argmax(axis=-1)\n",
    "\n",
    "print(classification_report(y_test, y_pred, target_names=['negative', 'neutral', 'positive']))\n",
    "print(\"F1 Score:\", f1_score(y_test, y_pred, average='weighted'))\n",
    "\n",
    "# Log the F1 score to wandb\n",
    "wandb.log({'f1_score': f1_score(y_test, y_pred, average='weighted')})"
   ]
  },
  {
   "cell_type": "markdown",
   "metadata": {
    "id": "hi-TdUTi6mx9"
   },
   "source": [
    "# Plot the training"
   ]
  },
  {
   "cell_type": "code",
   "execution_count": null,
   "metadata": {
    "colab": {
     "base_uri": "https://localhost:8080/",
     "height": 223
    },
    "id": "wOWjkiL-xin-",
    "outputId": "35861ecb-6237-4993-9147-f8eb209482b0"
   },
   "outputs": [
    {
     "data": {
      "image/png": "[encoded data removed]",
      "text/plain": [
       "<Figure size 1800x400 with 3 Axes>"
      ]
     },
     "metadata": {},
     "output_type": "display_data"
    }
   ],
   "source": [
    "# Create a figure and a 1x3 subplot\n",
    "fig, axs = plt.subplots(1, 3, figsize=(18, 4))\n",
    "\n",
    "# Plotting loss\n",
    "axs[0].plot(history.history[\"loss\"])\n",
    "axs[0].plot(history.history[\"val_loss\"])\n",
    "axs[0].set_title(\"Model loss\")\n",
    "axs[0].set_ylabel(\"Loss\")\n",
    "axs[0].set_xlabel(\"Epoch\")\n",
    "axs[0].legend([\"Train\", \"Validation\"], loc=\"upper left\")\n",
    "\n",
    "# Plotting accuracy\n",
    "axs[1].plot(history.history[\"accuracy\"])\n",
    "if \"val_accuracy\" in history.history:\n",
    "    axs[1].plot(history.history[\"val_accuracy\"])\n",
    "axs[1].set_title(\"Model accuracy\")\n",
    "axs[1].set_ylabel(\"Accuracy\")\n",
    "axs[1].set_xlabel(\"Epoch\")\n",
    "axs[1].legend([\"Train\", \"Validation\"], loc=\"upper left\")\n",
    "\n",
    "# Plotting Validation F1 Scores\n",
    "axs[2].plot(f1_evaluation.f1_scores)\n",
    "axs[2].set_title(\"Validation F1 Score\")\n",
    "axs[2].set_ylabel(\"F1 Score\")\n",
    "axs[2].set_xlabel(\"Epoch\")\n",
    "axs[2].legend([\"Validation\"], loc=\"upper left\")\n",
    "\n",
    "# Adjusts subplot params so they fit into the figure area\n",
    "plt.tight_layout()\n",
    "plt.show()"
   ]
  },
  {
   "cell_type": "code",
   "execution_count": null,
   "metadata": {
    "id": "w9QBdvw86uNy"
   },
   "outputs": [],
   "source": [
    "# Define the save path on your Google Drive\n",
    "save_path = \"/content/drive/My Drive/my_bert_model\"\n",
    "\n",
    "# Save the model\n",
    "model.save_pretrained(save_path)"
   ]
  },
  {
   "cell_type": "code",
   "execution_count": 8,
   "metadata": {
    "colab": {
     "base_uri": "https://localhost:8080/"
    },
    "id": "uwguiyoCNYSp",
    "outputId": "31a0ff30-bce1-49ed-8b36-c266826a7aba"
   },
   "outputs": [
    {
     "name": "stderr",
     "output_type": "stream",
     "text": [
      "All model checkpoint layers were used when initializing TFBertForSequenceClassification.\n",
      "\n",
      "All the layers of TFBertForSequenceClassification were initialized from the model checkpoint at /content/drive/My Drive/my_bert_model.\n",
      "If your task is similar to the task the model of the checkpoint was trained on, you can already use TFBertForSequenceClassification for predictions without further training.\n"
     ]
    }
   ],
   "source": [
    "loaded_model = TFBertForSequenceClassification.from_pretrained(\"/content/drive/My Drive/my_bert_model\")"
   ]
  },
  {
   "cell_type": "markdown",
   "metadata": {
    "id": "Mo52fjJj9kjd"
   },
   "source": [
    "# Distillation"
   ]
  },
  {
   "cell_type": "code",
   "execution_count": 79,
   "metadata": {
    "id": "wY5RkrDtUojr"
   },
   "outputs": [],
   "source": [
    "# CONSTANTS\n",
    "VOCAB_SIZE = 30522 # same as BERT's vocab size\n",
    "NUM_EPOCHS = 3     # Number of epochs to train over\n",
    "EMBEDDING_DIM = 64 # dimension of the word embeddings\n",
    "HIDDEN_DIM = 128   # hidden dimension of LSTM\n",
    "OUTPUT_DIM = 3.    # number of classes in the classification task (negative, neutral, positive)\n",
    "DROPOUT_RATE = 0.5 # dropout rate\n",
    "ALPHA = 0.5        # the factor to weigh the cross entropy and mean squared error loss"
   ]
  },
  {
   "cell_type": "code",
   "execution_count": 78,
   "metadata": {
    "id": "eKOdHa3lHVwx"
   },
   "outputs": [],
   "source": [
    "# Define the LTSMDistilled model class\n",
    "class LSTMDistilled(tf.keras.Model):\n",
    "    def __init__(self,\n",
    "                 vocab_size=30522,\n",
    "                 embedding_dim=64,\n",
    "                 lstm_units = 128,\n",
    "                 output_dim=3,\n",
    "                 dropout=0.5,\n",
    "                 alpha=0.5):\n",
    "        super(LSTMDistilled, self).__init__()\n",
    "\n",
    "        self.embedding = Embedding(vocab_size, embedding_dim)\n",
    "        self.dropout = Dropout(dropout)\n",
    "        self.lstm = LSTM(lstm_units, return_sequences=False)\n",
    "        self.lstm = Bidirectional(self.lstm, merge_mode='concat')\n",
    "        self.dropout = Dropout(dropout)\n",
    "        self.fc = Dense(output_dim)\n",
    "        self.alpha = alpha\n",
    "\n",
    "    def call(self, x):\n",
    "        x = self.embedding(x)\n",
    "        x = self.dropout(x)\n",
    "        x = self.lstm(x)\n",
    "        x = self.dropout(x)\n",
    "        x = self.fc(x)\n",
    "        return x\n",
    "\n",
    "    def loss_fn(self, y_true, y_pred):\n",
    "        criterion_mse = MeanSquaredError()\n",
    "        criterion_ce = SparseCategoricalCrossentropy(from_logits=True)\n",
    "\n",
    "        y_true_cls = tf.cast(tf.argmax(y_true, axis=-1), tf.int32)  # get the class index\n",
    "        y_true_one_hot = tf.one_hot(y_true_cls, depth=3)\n",
    "\n",
    "        return self.alpha * criterion_ce(y_true_cls, y_pred) + (1 - self.alpha) * criterion_mse(y_true_one_hot, tf.nn.softmax(y_pred))\n",
    "\n",
    "    def model(self):\n",
    "        x = tf.keras.Input(shape=(None,))\n",
    "        return tf.keras.Model(inputs=[x], outputs=self.call(x))"
   ]
  },
  {
   "cell_type": "code",
   "execution_count": 81,
   "metadata": {
    "colab": {
     "base_uri": "https://localhost:8080/"
    },
    "id": "c3Yxb85iSvsj",
    "outputId": "476e8166-7d7b-48a2-e518-ba3ed2cfe731"
   },
   "outputs": [
    {
     "name": "stdout",
     "output_type": "stream",
     "text": [
      "386/386 [==============================] - 15s 38ms/step\n",
      "82/82 [==============================] - 3s 31ms/step\n"
     ]
    }
   ],
   "source": [
    "# Set a temperature value to experiment with\n",
    "temperature = 3.0\n",
    "\n",
    "# Compute teacher's logits\n",
    "teacher_logits_train = loaded_model.predict(train_dataset.batch(8)).logits\n",
    "teacher_logits_val = loaded_model.predict(val_dataset.batch(8)).logits\n",
    "\n",
    "# Compute teacher's softened probabilities using temperature\n",
    "teacher_probs_train = tf.nn.softmax(teacher_logits_train / temperature)\n",
    "teacher_probs_val = tf.nn.softmax(teacher_logits_val / temperature)\n",
    "\n",
    "# Initialize tokenizer with max number of words to VOCAB_SIZE\n",
    "# The LSTM uses different tokenization than the BERT model\n",
    "lstm_tokenizer = Tokenizer(num_words=VOCAB_SIZE)\n",
    "\n",
    "# Fit the tokenizer on your text\n",
    "lstm_tokenizer.fit_on_texts(train.sentence.tolist())\n",
    "\n",
    "# Tokenize the text into sequences\n",
    "sequences_train = lstm_tokenizer.texts_to_sequences(train.sentence.tolist())\n",
    "sequences_valid = lstm_tokenizer.texts_to_sequences(valid.sentence.tolist())\n",
    "\n",
    "# Pad sequences for equal input lengths\n",
    "X_train = pad_sequences(sequences_train, maxlen=128, padding='post')\n",
    "X_valid = pad_sequences(sequences_valid, maxlen=128, padding='post')"
   ]
  },
  {
   "cell_type": "code",
   "execution_count": 88,
   "metadata": {
    "colab": {
     "base_uri": "https://localhost:8080/"
    },
    "id": "j1GQ1NGlUxYz",
    "outputId": "2eafb53f-aa37-40af-a766-a1a22f71d83d"
   },
   "outputs": [
    {
     "name": "stdout",
     "output_type": "stream",
     "text": [
      "Epoch 1/20\n",
      "97/97 - 16s - loss: 0.5205 - accuracy: 0.6297 - val_loss: 0.4559 - val_accuracy: 0.6743 - 16s/epoch - 161ms/step\n",
      "Epoch 2/20\n",
      "97/97 - 7s - loss: 0.3793 - accuracy: 0.7309 - val_loss: 0.3814 - val_accuracy: 0.7538 - 7s/epoch - 67ms/step\n",
      "Epoch 3/20\n",
      "97/97 - 3s - loss: 0.2768 - accuracy: 0.8106 - val_loss: 0.3712 - val_accuracy: 0.7599 - 3s/epoch - 31ms/step\n",
      "Epoch 4/20\n",
      "97/97 - 2s - loss: 0.2214 - accuracy: 0.8434 - val_loss: 0.4179 - val_accuracy: 0.7446 - 2s/epoch - 23ms/step\n",
      "Epoch 5/20\n",
      "97/97 - 3s - loss: 0.1703 - accuracy: 0.8778 - val_loss: 0.4383 - val_accuracy: 0.7569 - 3s/epoch - 27ms/step\n",
      "Epoch 6/20\n",
      "97/97 - 2s - loss: 0.1161 - accuracy: 0.9309 - val_loss: 0.4033 - val_accuracy: 0.7920 - 2s/epoch - 25ms/step\n",
      "Epoch 7/20\n",
      "97/97 - 2s - loss: 0.0627 - accuracy: 0.9666 - val_loss: 0.4400 - val_accuracy: 0.7966 - 2s/epoch - 22ms/step\n",
      "Epoch 8/20\n",
      "97/97 - 2s - loss: 0.0468 - accuracy: 0.9750 - val_loss: 0.4322 - val_accuracy: 0.7905 - 2s/epoch - 16ms/step\n",
      "Epoch 9/20\n",
      "97/97 - 2s - loss: 0.0446 - accuracy: 0.9780 - val_loss: 0.5883 - val_accuracy: 0.7768 - 2s/epoch - 18ms/step\n",
      "Epoch 10/20\n",
      "97/97 - 2s - loss: 0.0273 - accuracy: 0.9877 - val_loss: 0.4972 - val_accuracy: 0.7798 - 2s/epoch - 17ms/step\n",
      "Epoch 11/20\n",
      "97/97 - 2s - loss: 0.0176 - accuracy: 0.9922 - val_loss: 0.5353 - val_accuracy: 0.7890 - 2s/epoch - 21ms/step\n",
      "Epoch 12/20\n",
      "97/97 - 2s - loss: 0.0161 - accuracy: 0.9919 - val_loss: 0.5185 - val_accuracy: 0.7966 - 2s/epoch - 18ms/step\n",
      "Epoch 13/20\n",
      "97/97 - 2s - loss: 0.0100 - accuracy: 0.9942 - val_loss: 0.5555 - val_accuracy: 0.7844 - 2s/epoch - 19ms/step\n",
      "Epoch 14/20\n",
      "97/97 - 2s - loss: 0.0104 - accuracy: 0.9932 - val_loss: 0.6241 - val_accuracy: 0.7905 - 2s/epoch - 19ms/step\n",
      "Epoch 15/20\n",
      "97/97 - 1s - loss: 0.0104 - accuracy: 0.9945 - val_loss: 0.5597 - val_accuracy: 0.7875 - 1s/epoch - 14ms/step\n",
      "Epoch 16/20\n",
      "97/97 - 1s - loss: 0.0071 - accuracy: 0.9968 - val_loss: 0.5921 - val_accuracy: 0.7768 - 1s/epoch - 15ms/step\n",
      "Epoch 17/20\n",
      "97/97 - 2s - loss: 0.0133 - accuracy: 0.9922 - val_loss: 0.6360 - val_accuracy: 0.7829 - 2s/epoch - 16ms/step\n",
      "Epoch 18/20\n",
      "97/97 - 2s - loss: 0.0105 - accuracy: 0.9951 - val_loss: 0.5622 - val_accuracy: 0.7798 - 2s/epoch - 18ms/step\n",
      "Epoch 19/20\n",
      "97/97 - 2s - loss: 0.0137 - accuracy: 0.9935 - val_loss: 0.5419 - val_accuracy: 0.7813 - 2s/epoch - 20ms/step\n",
      "Epoch 20/20\n",
      "97/97 - 2s - loss: 0.0088 - accuracy: 0.9964 - val_loss: 0.5480 - val_accuracy: 0.7737 - 2s/epoch - 17ms/step\n"
     ]
    }
   ],
   "source": [
    "# Construct LSTM with constants as parameters as defined above\n",
    "lstm_distilled = LSTMDistilled(\n",
    "    vocab_size=VOCAB_SIZE,\n",
    "    embedding_dim=EMBEDDING_DIM,\n",
    "    lstm_units=HIDDEN_DIM,\n",
    "    output_dim=OUTPUT_DIM,\n",
    "    dropout=DROPOUT_RATE,\n",
    "    alpha=ALPHA\n",
    ")\n",
    "\n",
    "student_model = lstm_distilled.model()\n",
    "\n",
    "# Compile model with custom loss\n",
    "student_model.compile(optimizer='adam',\n",
    "                      loss=lstm_distilled.loss_fn,\n",
    "                      metrics=['accuracy'])\n",
    "\n",
    "# Train LSTM as a student model\n",
    "lstm_history = student_model.fit(\n",
    "    X_train,\n",
    "    teacher_probs_train,\n",
    "    validation_data=(X_valid, teacher_probs_val),\n",
    "    epochs=NUM_EPOCHS,\n",
    "    verbose=2\n",
    ")"
   ]
  },
  {
   "cell_type": "code",
   "execution_count": 89,
   "metadata": {
    "colab": {
     "base_uri": "https://localhost:8080/",
     "height": 223
    },
    "id": "onIhkgA4b6Wu",
    "outputId": "fd698a87-28f5-4145-fd6a-19b5e3fc3410"
   },
   "outputs": [
    {
     "data": {
      "image/png": "[encoded data removed]",
      "text/plain": [
       "<Figure size 1800x400 with 2 Axes>"
      ]
     },
     "metadata": {},
     "output_type": "display_data"
    }
   ],
   "source": [
    "# Create a figure and a 1x2 subplot\n",
    "fig, axs = plt.subplots(1, 2, figsize=(18, 4))\n",
    "\n",
    "# Plotting loss\n",
    "axs[0].plot(lstm_history.history[\"loss\"])\n",
    "axs[0].plot(lstm_history.history[\"val_loss\"])\n",
    "axs[0].set_title(\"Model loss\")\n",
    "axs[0].set_ylabel(\"Loss\")\n",
    "axs[0].set_xlabel(\"Epoch\")\n",
    "axs[0].legend([\"Train\", \"Validation\"], loc=\"upper left\")\n",
    "\n",
    "# Plotting accuracy\n",
    "axs[1].plot(lstm_history.history[\"accuracy\"])\n",
    "axs[1].plot(lstm_history.history[\"val_accuracy\"])\n",
    "axs[1].set_title(\"Model accuracy\")\n",
    "axs[1].set_ylabel(\"Accuracy\")\n",
    "axs[1].set_xlabel(\"Epoch\")\n",
    "axs[1].legend([\"Train\", \"Validation\"], loc=\"upper left\")\n",
    "\n",
    "plt.tight_layout()\n",
    "plt.show()"
   ]
  }
 ],
 "metadata": {
  "accelerator": "GPU",
  "colab": {
   "gpuType": "V100",
   "machine_shape": "hm",
   "provenance": []
  },
  "kernelspec": {
   "display_name": "Python 3",
   "language": "python",
   "name": "python3"
  },
  "language_info": {
   "codemirror_mode": {
    "name": "ipython",
    "version": 3
   },
   "file_extension": ".py",
   "mimetype": "text/x-python",
   "name": "python",
   "nbconvert_exporter": "python",
   "pygments_lexer": "ipython3",
   "version": "3.11.4"
  },
  "widgets": {
   "application/vnd.jupyter.widget-state+json": {
    "260b1e15242748d6ad81ae1d59b65ce1": {
     "model_module": "@jupyter-widgets/base",
     "model_module_version": "1.2.0",
     "model_name": "LayoutModel",
     "state": {
      "_model_module": "@jupyter-widgets/base",
      "_model_module_version": "1.2.0",
      "_model_name": "LayoutModel",
      "_view_count": null,
      "_view_module": "@jupyter-widgets/base",
      "_view_module_version": "1.2.0",
      "_view_name": "LayoutView",
      "align_content": null,
      "align_items": null,
      "align_self": null,
      "border": null,
      "bottom": null,
      "display": null,
      "flex": null,
      "flex_flow": null,
      "grid_area": null,
      "grid_auto_columns": null,
      "grid_auto_flow": null,
      "grid_auto_rows": null,
      "grid_column": null,
      "grid_gap": null,
      "grid_row": null,
      "grid_template_areas": null,
      "grid_template_columns": null,
      "grid_template_rows": null,
      "height": null,
      "justify_content": null,
      "justify_items": null,
      "left": null,
      "margin": null,
      "max_height": null,
      "max_width": null,
      "min_height": null,
      "min_width": null,
      "object_fit": null,
      "object_position": null,
      "order": null,
      "overflow": null,
      "overflow_x": null,
      "overflow_y": null,
      "padding": null,
      "right": null,
      "top": null,
      "visibility": null,
      "width": null
     }
    },
    "319051e8ffd340839a1762386976a5e4": {
     "model_module": "@jupyter-widgets/base",
     "model_module_version": "1.2.0",
     "model_name": "LayoutModel",
     "state": {
      "_model_module": "@jupyter-widgets/base",
      "_model_module_version": "1.2.0",
      "_model_name": "LayoutModel",
      "_view_count": null,
      "_view_module": "@jupyter-widgets/base",
      "_view_module_version": "1.2.0",
      "_view_name": "LayoutView",
      "align_content": null,
      "align_items": null,
      "align_self": null,
      "border": null,
      "bottom": null,
      "display": null,
      "flex": null,
      "flex_flow": null,
      "grid_area": null,
      "grid_auto_columns": null,
      "grid_auto_flow": null,
      "grid_auto_rows": null,
      "grid_column": null,
      "grid_gap": null,
      "grid_row": null,
      "grid_template_areas": null,
      "grid_template_columns": null,
      "grid_template_rows": null,
      "height": null,
      "justify_content": null,
      "justify_items": null,
      "left": null,
      "margin": null,
      "max_height": null,
      "max_width": null,
      "min_height": null,
      "min_width": null,
      "object_fit": null,
      "object_position": null,
      "order": null,
      "overflow": null,
      "overflow_x": null,
      "overflow_y": null,
      "padding": null,
      "right": null,
      "top": null,
      "visibility": null,
      "width": null
     }
    },
    "3c9314d0397d4c939075cc229db3d7d5": {
     "model_module": "@jupyter-widgets/controls",
     "model_module_version": "1.5.0",
     "model_name": "DescriptionStyleModel",
     "state": {
      "_model_module": "@jupyter-widgets/controls",
      "_model_module_version": "1.5.0",
      "_model_name": "DescriptionStyleModel",
      "_view_count": null,
      "_view_module": "@jupyter-widgets/base",
      "_view_module_version": "1.2.0",
      "_view_name": "StyleView",
      "description_width": ""
     }
    },
    "3ebb65fe4ee24579991029affc47fd89": {
     "model_module": "@jupyter-widgets/controls",
     "model_module_version": "1.5.0",
     "model_name": "DescriptionStyleModel",
     "state": {
      "_model_module": "@jupyter-widgets/controls",
      "_model_module_version": "1.5.0",
      "_model_name": "DescriptionStyleModel",
      "_view_count": null,
      "_view_module": "@jupyter-widgets/base",
      "_view_module_version": "1.2.0",
      "_view_name": "StyleView",
      "description_width": ""
     }
    },
    "3eff5d63862040d6bbc0c3615c7188db": {
     "model_module": "@jupyter-widgets/controls",
     "model_module_version": "1.5.0",
     "model_name": "FloatProgressModel",
     "state": {
      "_dom_classes": [],
      "_model_module": "@jupyter-widgets/controls",
      "_model_module_version": "1.5.0",
      "_model_name": "FloatProgressModel",
      "_view_count": null,
      "_view_module": "@jupyter-widgets/controls",
      "_view_module_version": "1.5.0",
      "_view_name": "ProgressView",
      "bar_style": "success",
      "description": "",
      "description_tooltip": null,
      "layout": "IPY_MODEL_319051e8ffd340839a1762386976a5e4",
      "max": 440449768,
      "min": 0,
      "orientation": "horizontal",
      "style": "IPY_MODEL_41e1681c4fe646f9aff22a5c1efd2a4d",
      "value": 440449768
     }
    },
    "41e1681c4fe646f9aff22a5c1efd2a4d": {
     "model_module": "@jupyter-widgets/controls",
     "model_module_version": "1.5.0",
     "model_name": "ProgressStyleModel",
     "state": {
      "_model_module": "@jupyter-widgets/controls",
      "_model_module_version": "1.5.0",
      "_model_name": "ProgressStyleModel",
      "_view_count": null,
      "_view_module": "@jupyter-widgets/base",
      "_view_module_version": "1.2.0",
      "_view_name": "StyleView",
      "bar_color": null,
      "description_width": ""
     }
    },
    "a39f2ca1cd1f4fe193adfb3344b87d0a": {
     "model_module": "@jupyter-widgets/base",
     "model_module_version": "1.2.0",
     "model_name": "LayoutModel",
     "state": {
      "_model_module": "@jupyter-widgets/base",
      "_model_module_version": "1.2.0",
      "_model_name": "LayoutModel",
      "_view_count": null,
      "_view_module": "@jupyter-widgets/base",
      "_view_module_version": "1.2.0",
      "_view_name": "LayoutView",
      "align_content": null,
      "align_items": null,
      "align_self": null,
      "border": null,
      "bottom": null,
      "display": null,
      "flex": null,
      "flex_flow": null,
      "grid_area": null,
      "grid_auto_columns": null,
      "grid_auto_flow": null,
      "grid_auto_rows": null,
      "grid_column": null,
      "grid_gap": null,
      "grid_row": null,
      "grid_template_areas": null,
      "grid_template_columns": null,
      "grid_template_rows": null,
      "height": null,
      "justify_content": null,
      "justify_items": null,
      "left": null,
      "margin": null,
      "max_height": null,
      "max_width": null,
      "min_height": null,
      "min_width": null,
      "object_fit": null,
      "object_position": null,
      "order": null,
      "overflow": null,
      "overflow_x": null,
      "overflow_y": null,
      "padding": null,
      "right": null,
      "top": null,
      "visibility": null,
      "width": null
     }
    },
    "a8c30d3041954ad5be787bee604fd07d": {
     "model_module": "@jupyter-widgets/base",
     "model_module_version": "1.2.0",
     "model_name": "LayoutModel",
     "state": {
      "_model_module": "@jupyter-widgets/base",
      "_model_module_version": "1.2.0",
      "_model_name": "LayoutModel",
      "_view_count": null,
      "_view_module": "@jupyter-widgets/base",
      "_view_module_version": "1.2.0",
      "_view_name": "LayoutView",
      "align_content": null,
      "align_items": null,
      "align_self": null,
      "border": null,
      "bottom": null,
      "display": null,
      "flex": null,
      "flex_flow": null,
      "grid_area": null,
      "grid_auto_columns": null,
      "grid_auto_flow": null,
      "grid_auto_rows": null,
      "grid_column": null,
      "grid_gap": null,
      "grid_row": null,
      "grid_template_areas": null,
      "grid_template_columns": null,
      "grid_template_rows": null,
      "height": null,
      "justify_content": null,
      "justify_items": null,
      "left": null,
      "margin": null,
      "max_height": null,
      "max_width": null,
      "min_height": null,
      "min_width": null,
      "object_fit": null,
      "object_position": null,
      "order": null,
      "overflow": null,
      "overflow_x": null,
      "overflow_y": null,
      "padding": null,
      "right": null,
      "top": null,
      "visibility": null,
      "width": null
     }
    },
    "c6dc65c168894c08b7016c300fdd47c2": {
     "model_module": "@jupyter-widgets/controls",
     "model_module_version": "1.5.0",
     "model_name": "HBoxModel",
     "state": {
      "_dom_classes": [],
      "_model_module": "@jupyter-widgets/controls",
      "_model_module_version": "1.5.0",
      "_model_name": "HBoxModel",
      "_view_count": null,
      "_view_module": "@jupyter-widgets/controls",
      "_view_module_version": "1.5.0",
      "_view_name": "HBoxView",
      "box_style": "",
      "children": [
       "IPY_MODEL_d5b6a75903e942f0bc00e0a6b605cced",
       "IPY_MODEL_3eff5d63862040d6bbc0c3615c7188db",
       "IPY_MODEL_d88ea8067d7948c781c5e0bb65cf7fa6"
      ],
      "layout": "IPY_MODEL_a8c30d3041954ad5be787bee604fd07d"
     }
    },
    "d5b6a75903e942f0bc00e0a6b605cced": {
     "model_module": "@jupyter-widgets/controls",
     "model_module_version": "1.5.0",
     "model_name": "HTMLModel",
     "state": {
      "_dom_classes": [],
      "_model_module": "@jupyter-widgets/controls",
      "_model_module_version": "1.5.0",
      "_model_name": "HTMLModel",
      "_view_count": null,
      "_view_module": "@jupyter-widgets/controls",
      "_view_module_version": "1.5.0",
      "_view_name": "HTMLView",
      "description": "",
      "description_tooltip": null,
      "layout": "IPY_MODEL_260b1e15242748d6ad81ae1d59b65ce1",
      "placeholder": "​",
      "style": "IPY_MODEL_3c9314d0397d4c939075cc229db3d7d5",
      "value": "Downloading model.safetensors: 100%"
     }
    },
    "d88ea8067d7948c781c5e0bb65cf7fa6": {
     "model_module": "@jupyter-widgets/controls",
     "model_module_version": "1.5.0",
     "model_name": "HTMLModel",
     "state": {
      "_dom_classes": [],
      "_model_module": "@jupyter-widgets/controls",
      "_model_module_version": "1.5.0",
      "_model_name": "HTMLModel",
      "_view_count": null,
      "_view_module": "@jupyter-widgets/controls",
      "_view_module_version": "1.5.0",
      "_view_name": "HTMLView",
      "description": "",
      "description_tooltip": null,
      "layout": "IPY_MODEL_a39f2ca1cd1f4fe193adfb3344b87d0a",
      "placeholder": "​",
      "style": "IPY_MODEL_3ebb65fe4ee24579991029affc47fd89",
      "value": " 440M/440M [00:01&lt;00:00, 400MB/s]"
     }
    }
   }
  }
 },
 "nbformat": 4,
 "nbformat_minor": 1
}
